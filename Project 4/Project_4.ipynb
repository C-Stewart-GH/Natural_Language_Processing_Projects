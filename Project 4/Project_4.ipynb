{
 "cells": [
  {
   "cell_type": "markdown",
   "metadata": {},
   "source": [
    "# Cameron Stewart\n",
    "# HW4"
   ]
  },
  {
   "cell_type": "markdown",
   "metadata": {},
   "source": [
    "## 1.\tRun one of the part-of-speech (POS) taggers available in Python. \n",
    "* Find the longest sentence you can, longer than 10 words, that the POS tagger tags correctly. Show the input and output.\n",
    "* Find the shortest sentence you can, shorter than 10 words, that the POS tagger fails to tag 100 percent correctly. Show the input and output. Explain your conjecture as to why the tagger might have been less than perfect with this sentence. \n"
   ]
  },
  {
   "cell_type": "markdown",
   "metadata": {},
   "source": [
    "I plan to use the NLTK POS Tagger for Question 1. Below, I will show the input/output of a long sentence the POS tagger captures completely correct."
   ]
  },
  {
   "cell_type": "code",
   "execution_count": 1,
   "metadata": {},
   "outputs": [],
   "source": [
    "import nltk"
   ]
  },
  {
   "cell_type": "code",
   "execution_count": 2,
   "metadata": {},
   "outputs": [
    {
     "data": {
      "text/plain": [
       "[('After', 'IN'),\n",
       " ('I', 'PRP'),\n",
       " ('finish', 'VBP'),\n",
       " ('this', 'DT'),\n",
       " ('assignment', 'NN'),\n",
       " (',', ','),\n",
       " ('I', 'PRP'),\n",
       " ('will', 'MD'),\n",
       " ('need', 'VB'),\n",
       " ('to', 'TO'),\n",
       " ('take', 'VB'),\n",
       " ('a', 'DT'),\n",
       " ('vacation', 'NN'),\n",
       " ('.', '.')]"
      ]
     },
     "execution_count": 2,
     "metadata": {},
     "output_type": "execute_result"
    }
   ],
   "source": [
    "long_sentence=\"After I finish this assignment, I will need to take a vacation.\"\n",
    "tokenized_long_sentence=nltk.word_tokenize(long_sentence)\n",
    "nltk.pos_tag(tokenized_long_sentence)"
   ]
  },
  {
   "cell_type": "markdown",
   "metadata": {},
   "source": [
    "Now, we will look at a short sentence that is not captured correctly by the NLTK POS tagger."
   ]
  },
  {
   "cell_type": "code",
   "execution_count": 3,
   "metadata": {},
   "outputs": [
    {
     "data": {
      "text/plain": [
       "[('Big', 'JJ'),\n",
       " ('Red', 'NNP'),\n",
       " ('is', 'VBZ'),\n",
       " ('a', 'DT'),\n",
       " ('spicy', 'NN'),\n",
       " ('gum', 'NN'),\n",
       " ('.', '.')]"
      ]
     },
     "execution_count": 3,
     "metadata": {},
     "output_type": "execute_result"
    }
   ],
   "source": [
    "short_sentence=\"Big Red is a spicy gum.\"\n",
    "tokenized_short_sentence=nltk.word_tokenize(short_sentence)\n",
    "nltk.pos_tag(tokenized_short_sentence)"
   ]
  },
  {
   "cell_type": "markdown",
   "metadata": {},
   "source": [
    "The NLTK pos tagger made two mistakes on this short sentence. The first is that 'Big Red' is a brand name and both words are proper nouns. The tagger marked 'Big' as an adjective. The second is that 'spicy' should be an adjective describing the noun 'gum' but it was marked a noun. What makes this especially odd is that spicy has no word sense in WordNet where it could be interpreted as a noun."
   ]
  },
  {
   "cell_type": "markdown",
   "metadata": {},
   "source": [
    "## 2.\tRun a different POS tagger in Python. Process the same two sentences from question 1.\n",
    "* Does it produce the same or different output?\n",
    "* Explain any differences as best you can.\n"
   ]
  },
  {
   "cell_type": "markdown",
   "metadata": {},
   "source": [
    "I plan to use the Flair POS Tagger for Question 2. This was marked as the most accurate tagger in a study on WSJ articles (https://aclweb.org/aclwiki/index.php?title=POS_Tagging_(State_of_the_art). It also runs on PyTorch. Below, I will show the input/output of the same long sentence as before."
   ]
  },
  {
   "cell_type": "code",
   "execution_count": 4,
   "metadata": {},
   "outputs": [
    {
     "name": "stdout",
     "output_type": "stream",
     "text": [
      "2022-02-13 21:50:36,371 loading file /Users/cameron/.flair/models/pos-english/a9a73f6cd878edce8a0fa518db76f441f1cc49c2525b2b4557af278ec2f0659e.121306ea62993d04cd1978398b68396931a39eb47754c8a06a87f325ea70ac63\n"
     ]
    }
   ],
   "source": [
    "from flair.data import Sentence\n",
    "from flair.models import SequenceTagger\n",
    "\n",
    "# load tagger\n",
    "tagger = SequenceTagger.load(\"flair/pos-english\")"
   ]
  },
  {
   "cell_type": "code",
   "execution_count": 5,
   "metadata": {},
   "outputs": [
    {
     "name": "stdout",
     "output_type": "stream",
     "text": [
      "Sentence: \"After I finish this assignment , I will need to take a vacation .\"   [− Tokens: 14  − Token-Labels: \"After <IN> I <PRP> finish <VBP> this <DT> assignment <NN> , <,> I <PRP> will <MD> need <VB> to <TO> take <VB> a <DT> vacation <NN> . <.>\"]\n",
      "The following NER tags are found:\n",
      "Span [1]: \"After\"   [− Labels: IN (0.9993)]\n",
      "Span [2]: \"I\"   [− Labels: PRP (1.0)]\n",
      "Span [3]: \"finish\"   [− Labels: VBP (1.0)]\n",
      "Span [4]: \"this\"   [− Labels: DT (1.0)]\n",
      "Span [5]: \"assignment\"   [− Labels: NN (1.0)]\n",
      "Span [6]: \",\"   [− Labels: , (1.0)]\n",
      "Span [7]: \"I\"   [− Labels: PRP (1.0)]\n",
      "Span [8]: \"will\"   [− Labels: MD (1.0)]\n",
      "Span [9]: \"need\"   [− Labels: VB (1.0)]\n",
      "Span [10]: \"to\"   [− Labels: TO (1.0)]\n",
      "Span [11]: \"take\"   [− Labels: VB (0.9998)]\n",
      "Span [12]: \"a\"   [− Labels: DT (1.0)]\n",
      "Span [13]: \"vacation\"   [− Labels: NN (1.0)]\n",
      "Span [14]: \".\"   [− Labels: . (1.0)]\n"
     ]
    }
   ],
   "source": [
    "# make example sentence\n",
    "sentence = Sentence(\"After I finish this assignment, I will need to take a vacation.\")\n",
    "\n",
    "# predict NER tags\n",
    "tagger.predict(sentence)\n",
    "\n",
    "# print sentence\n",
    "print(sentence)\n",
    "\n",
    "# print predicted NER spans\n",
    "print('The following NER tags are found:')\n",
    "# iterate over entities and print\n",
    "for entity in sentence.get_spans('pos'):\n",
    "    print(entity)"
   ]
  },
  {
   "cell_type": "markdown",
   "metadata": {},
   "source": [
    "Now, we will look at the same short sentence that was not captured correctly by the NLTK POS tagger."
   ]
  },
  {
   "cell_type": "code",
   "execution_count": 6,
   "metadata": {},
   "outputs": [
    {
     "name": "stdout",
     "output_type": "stream",
     "text": [
      "Sentence: \"Big Red is a spicy gum .\"   [− Tokens: 7  − Token-Labels: \"Big <JJ> Red <NNP> is <VBZ> a <DT> spicy <JJ> gum <NN> . <.>\"]\n",
      "The following NER tags are found:\n",
      "Span [1]: \"Big\"   [− Labels: JJ (0.8844)]\n",
      "Span [2]: \"Red\"   [− Labels: NNP (0.7943)]\n",
      "Span [3]: \"is\"   [− Labels: VBZ (1.0)]\n",
      "Span [4]: \"a\"   [− Labels: DT (1.0)]\n",
      "Span [5]: \"spicy\"   [− Labels: JJ (0.9904)]\n",
      "Span [6]: \"gum\"   [− Labels: NN (1.0)]\n",
      "Span [7]: \".\"   [− Labels: . (1.0)]\n"
     ]
    }
   ],
   "source": [
    "# make example sentence\n",
    "sentence = Sentence(\"Big Red is a spicy gum.\")\n",
    "\n",
    "# predict NER tags\n",
    "tagger.predict(sentence)\n",
    "\n",
    "# print sentence\n",
    "print(sentence)\n",
    "\n",
    "# print predicted NER spans\n",
    "print('The following NER tags are found:')\n",
    "# iterate over entities and print\n",
    "for entity in sentence.get_spans('pos'):\n",
    "    print(entity)"
   ]
  },
  {
   "cell_type": "markdown",
   "metadata": {},
   "source": [
    "We can see the 'Big' in the 'Big Red' brand name was still improperly captured as an adjective instead of a proper noun. We can see spicy is now properly captured as and adjective. Overall, Flair was better at POS tagging than NLTK."
   ]
  },
  {
   "cell_type": "markdown",
   "metadata": {},
   "source": [
    "## 3.\tIn a news article from this week’s news, find a random sentence of at least 10 words.\n",
    "* Looking at the Penn tag set, manually POS tag the sentence yourself.\n",
    "* Now run the same sentences through both taggers that you implemented for questions 1 and 2. Did either of the taggers produce the same results as you had created manually?\n",
    "* Explain any differences between the two taggers and your manual tagging as much as you can.\n"
   ]
  },
  {
   "cell_type": "markdown",
   "metadata": {},
   "source": [
    "The sentence was pulled from a Super Bowl article found here: https://sports.yahoo.com/rams-beat-bengals-for-super-bowl-lvi-championship-thanks-to-cooper-kupps-heroics-030114941.html"
   ]
  },
  {
   "cell_type": "markdown",
   "metadata": {},
   "source": [
    "Selected Sentence: Cooper Kupp was about the only option the Los Angeles Rams had on offense at the end of Super Bowl LVI.\n",
    "\n",
    "Manual Tagging: <br>\n",
    "Cooper/  NNP<br>\n",
    "Kupp/    NNP<br>\n",
    "was/     VBD<br>\n",
    "about/   RB<br>\n",
    "the/     DT<br>\n",
    "only/    JJ<br>\n",
    "option/  NN<br>\n",
    "the/     DT<br>\n",
    "Los/     NNP<br>\n",
    "Angeles/ NNP<br>\n",
    "Rams/    NNPS<br>\n",
    "had/     VBD<br>\n",
    "on/      IN<br>\n",
    "offense/ NN<br>\n",
    "at/      IN<br>\n",
    "the/     DT<br>\n",
    "end/     NN<br>\n",
    "of/      IN<br>\n",
    "Super/   NNP<br>\n",
    "Bowl/    NNP<br>\n",
    "LVI/     NNP<br>\n",
    ".       "
   ]
  },
  {
   "cell_type": "markdown",
   "metadata": {},
   "source": [
    "Next, we will use the NLTK POS tagger on the same sentence."
   ]
  },
  {
   "cell_type": "code",
   "execution_count": 7,
   "metadata": {},
   "outputs": [
    {
     "data": {
      "text/plain": [
       "[('Cooper', 'NNP'),\n",
       " ('Kupp', 'NNP'),\n",
       " ('was', 'VBD'),\n",
       " ('about', 'IN'),\n",
       " ('the', 'DT'),\n",
       " ('only', 'JJ'),\n",
       " ('option', 'NN'),\n",
       " ('the', 'DT'),\n",
       " ('Los', 'NNP'),\n",
       " ('Angeles', 'NNP'),\n",
       " ('Rams', 'NNP'),\n",
       " ('had', 'VBD'),\n",
       " ('on', 'IN'),\n",
       " ('offense', 'NN'),\n",
       " ('at', 'IN'),\n",
       " ('the', 'DT'),\n",
       " ('end', 'NN'),\n",
       " ('of', 'IN'),\n",
       " ('Super', 'NNP'),\n",
       " ('Bowl', 'NNP'),\n",
       " ('LVI', 'NNP'),\n",
       " ('.', '.')]"
      ]
     },
     "execution_count": 7,
     "metadata": {},
     "output_type": "execute_result"
    }
   ],
   "source": [
    "news_sentence=\"Cooper Kupp was about the only option the Los Angeles Rams had on offense at the end of Super Bowl LVI.\"\n",
    "tokenized_news_sentence=nltk.word_tokenize(news_sentence)\n",
    "nltk.pos_tag(tokenized_news_sentence)"
   ]
  },
  {
   "cell_type": "markdown",
   "metadata": {},
   "source": [
    "Finally, we will use the Flair POS tagger on the same sentence."
   ]
  },
  {
   "cell_type": "code",
   "execution_count": 8,
   "metadata": {},
   "outputs": [
    {
     "name": "stdout",
     "output_type": "stream",
     "text": [
      "Sentence: \"Cooper Kupp was about the only option the Los Angeles Rams had on offense at the end of Super Bowl LVI .\"   [− Tokens: 22  − Token-Labels: \"Cooper <NNP> Kupp <NNP> was <VBD> about <RB> the <DT> only <JJ> option <NN> the <DT> Los <NNP> Angeles <NNP> Rams <NNPS> had <VBD> on <IN> offense <NN> at <IN> the <DT> end <NN> of <IN> Super <NNP> Bowl <NNP> LVI <NNP> . <.>\"]\n",
      "The following NER tags are found:\n",
      "Span [1]: \"Cooper\"   [− Labels: NNP (0.8798)]\n",
      "Span [2]: \"Kupp\"   [− Labels: NNP (1.0)]\n",
      "Span [3]: \"was\"   [− Labels: VBD (1.0)]\n",
      "Span [4]: \"about\"   [− Labels: RB (0.9998)]\n",
      "Span [5]: \"the\"   [− Labels: DT (1.0)]\n",
      "Span [6]: \"only\"   [− Labels: JJ (0.9924)]\n",
      "Span [7]: \"option\"   [− Labels: NN (1.0)]\n",
      "Span [8]: \"the\"   [− Labels: DT (1.0)]\n",
      "Span [9]: \"Los\"   [− Labels: NNP (1.0)]\n",
      "Span [10]: \"Angeles\"   [− Labels: NNP (0.9999)]\n",
      "Span [11]: \"Rams\"   [− Labels: NNPS (0.9414)]\n",
      "Span [12]: \"had\"   [− Labels: VBD (1.0)]\n",
      "Span [13]: \"on\"   [− Labels: IN (1.0)]\n",
      "Span [14]: \"offense\"   [− Labels: NN (1.0)]\n",
      "Span [15]: \"at\"   [− Labels: IN (1.0)]\n",
      "Span [16]: \"the\"   [− Labels: DT (1.0)]\n",
      "Span [17]: \"end\"   [− Labels: NN (1.0)]\n",
      "Span [18]: \"of\"   [− Labels: IN (1.0)]\n",
      "Span [19]: \"Super\"   [− Labels: NNP (1.0)]\n",
      "Span [20]: \"Bowl\"   [− Labels: NNP (1.0)]\n",
      "Span [21]: \"LVI\"   [− Labels: NNP (1.0)]\n",
      "Span [22]: \".\"   [− Labels: . (1.0)]\n"
     ]
    }
   ],
   "source": [
    "# make example sentence\n",
    "sentence = Sentence(\"Cooper Kupp was about the only option the Los Angeles Rams had on offense at the end of Super Bowl LVI.\")\n",
    "\n",
    "# predict NER tags\n",
    "tagger.predict(sentence)\n",
    "\n",
    "# print sentence\n",
    "print(sentence)\n",
    "\n",
    "# print predicted NER spans\n",
    "print('The following NER tags are found:')\n",
    "# iterate over entities and print\n",
    "for entity in sentence.get_spans('pos'):\n",
    "    print(entity)"
   ]
  },
  {
   "cell_type": "markdown",
   "metadata": {},
   "source": [
    "The Flair POS tagger came up with the same result as my manual tags. This confirms the level of accuracy of the Flair POS tagger. The NLTK POS tagger had two differences from both the manual and Flair tagging methods. \n",
    "\n",
    "The first difference was the word 'about' being shown as a preposition in the NLTK tagger instead of an adverb. The word about is using the definition 'almost or nearly' which is an adverb sense.\n",
    "\n",
    "The second difference was the word 'Rams'. This was marked as a singular proper noun in the NLTK tagger instead of a plural proper noun. The Rams are a single team but represent collective of players. I believe plural proper noun is the correct tag, but I can see where this is a confusing situation for determining the correct tag."
   ]
  }
 ],
 "metadata": {
  "interpreter": {
   "hash": "98188f228320b9c11c456464a36d308a8574f056afe4f13f0d58da7d046c4bd7"
  },
  "kernelspec": {
   "display_name": "Python 3.7.7 ('ds_p37_r35')",
   "language": "python",
   "name": "python3"
  },
  "language_info": {
   "codemirror_mode": {
    "name": "ipython",
    "version": 3
   },
   "file_extension": ".py",
   "mimetype": "text/x-python",
   "name": "python",
   "nbconvert_exporter": "python",
   "pygments_lexer": "ipython3",
   "version": "3.7.7"
  },
  "orig_nbformat": 4
 },
 "nbformat": 4,
 "nbformat_minor": 2
}
