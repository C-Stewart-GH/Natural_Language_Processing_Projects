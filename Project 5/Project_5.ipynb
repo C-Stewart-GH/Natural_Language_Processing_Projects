{
 "cells": [
  {
   "cell_type": "markdown",
   "metadata": {},
   "source": [
    "# Cameron Stewart\n",
    "# HW 5"
   ]
  },
  {
   "cell_type": "markdown",
   "metadata": {},
   "source": [
    "## 1.\tCompile a list of static links (permalinks) to individual user movie reviews from one particular website. This will be your working dataset for this assignment, as well as for assignments 7 and 8 \n",
    "- It does not matter if you use a crawler or if you manually collect the links, but you will need at least 100 movie review links. Note that, as of this writing, the robots.txt file of IMDB.com allows the crawling of user reviews.\n",
    "- Each link should be to a web page that has only one user review of only one movie, e.g., the user review permalinks on the IMDB site.\n",
    "- Choose reviews of movies that are all in the same genre, e.g., sci-fi, mystery, romance, superhero, etc.  \n",
    "- Make sure your collection includes reviews of several movies in your chosen genre and that it includes a mix of negative and positive reviews. "
   ]
  },
  {
   "cell_type": "code",
   "execution_count": 1,
   "metadata": {},
   "outputs": [],
   "source": [
    "#Load Required Libraries\n",
    "from bs4 import BeautifulSoup\n",
    "import nltk\n",
    "import requests\n",
    "import random\n",
    "import spacy"
   ]
  },
  {
   "cell_type": "markdown",
   "metadata": {},
   "source": [
    "The base URL is from an advanced search that filtered for the following items on IMDb:\n",
    "- Feature Film\n",
    "- Marvel comics\n",
    "- Superhero\n",
    "- At least 7.0 IMDb user rating (average)\n",
    "- 2015-2021 Release year or range\n",
    "\n",
    "In addition, I manually filtered to ensure the movie had at least 3000 votes to ensure the film was relevant and had sufficient reviews.\n",
    "\n",
    "After gathering the movie_id to all the films that met the above criteria, I created links to the reviews page. I created two links for each movie. One that populated the reviews in ascending order and another that populated the movies in descending order based on rating to ensure there was a mix of positive and negative reviews."
   ]
  },
  {
   "cell_type": "code",
   "execution_count": 2,
   "metadata": {},
   "outputs": [
    {
     "name": "stdout",
     "output_type": "stream",
     "text": [
      "Genre of focus in Marvel Movies\n",
      "Movies being analyzed that meet criteria: ['Avengers: Endgame', 'Avengers: Infinity War', 'Deadpool', 'Avengers: Age of Ultron', 'Captain America: Civil War', 'Logan', 'Black Panther', 'Thor: Ragnarok', 'Doctor Strange', 'Guardians of the Galaxy Vol. 2', 'Ant-Man', 'Spider-Man: Homecoming', 'Deadpool 2', 'Spider-Man: No Way Home', 'Spider-Man: Into the Spider-Verse', 'Spider-Man: Far from Home', 'Ant-Man and the Wasp', 'Shang-Chi and the Legend of the Ten Rings']\n",
      "Number of movies being analyzed that meet criteria: 18\n",
      "Number of review page links gathered: 36\n"
     ]
    }
   ],
   "source": [
    "# Downloading html for movie list from filter\n",
    "url = 'https://www.imdb.com/search/keyword/?keywords=marvel-comics%2Csuperhero&pf_rd_m=A2FGELUUNOQJNL&pf_rd_p=a581b14c-5a82-4e29-9cf8-54f909ced9e1&pf_rd_r=DFH913Q4P4WKBQ2SK3ZW&pf_rd_s=center-5&pf_rd_t=15051&pf_rd_i=genre&ref_=kw_ref_rt_usr&sort=num_votes,desc&mode=detail&page=1&title_type=movie&user_rating=7.0%2C&release_date=2015%2C2021'\n",
    "response = requests.get(url)\n",
    "\n",
    "#Put into soup format\n",
    "soup = BeautifulSoup(response.text, 'lxml')\n",
    "\n",
    "#Get review count for all movies on page (called votes)\n",
    "spans = soup.find_all('span',  {'name': 'nv'})\n",
    "vote_count=[int(x.get_text().replace(',', '')) for x in spans if x.get_text()[0]!='$']\n",
    "\n",
    "#Set vote count threshhold for movies you would consider for study\n",
    "vote_count_boolean=[x>3000 for x in vote_count]\n",
    "\n",
    "#Grab movie titles of all movies on page\n",
    "movie_headers=soup.find_all('h3', class_='lister-item-header')\n",
    "movie_titles=[x.a.contents[0] for i,x in enumerate(movie_headers) if vote_count_boolean[i]]           \n",
    "\n",
    "#Get movie ids to link to the review websites\n",
    "movie_ribbon=soup.find_all('div',class_='lister-item-image ribbonize')\n",
    "movie_id=[x.get('data-tconst') for i,x in enumerate(movie_ribbon) if vote_count_boolean[i]]\n",
    "\n",
    "#Create website links for each movie's review list\n",
    "movie_review_links=['https://www.imdb.com/title/'+x+'/reviews' for x in movie_id]\n",
    "len(movie_review_links) #count of movies in study\n",
    "\n",
    "#Review site with high reviews at top\n",
    "high_movie_review_links=[x+'?sort=userRating&dir=desc&ratingFilter=0' for x in movie_review_links]\n",
    "\n",
    "#Review site with low reviews at top\n",
    "low_movie_review_links=[x+'?sort=userRating&dir=asc&ratingFilter=0' for x in movie_review_links]\n",
    "\n",
    "#Combine high and low review page links\n",
    "all_review_page_links=high_movie_review_links+low_movie_review_links\n",
    "\n",
    "print('Genre of focus in Marvel Movies')\n",
    "print('Movies being analyzed that meet criteria:',movie_titles)\n",
    "print('Number of movies being analyzed that meet criteria:',len(movie_titles))\n",
    "print('Number of review page links gathered:',len(all_review_page_links))"
   ]
  },
  {
   "cell_type": "markdown",
   "metadata": {},
   "source": [
    "Next, I stepped through each review page and scraped the individual link to any review with at least 10 characters. This was to ensure the review has some content to analyze. I also scraped the body of each of the reviews."
   ]
  },
  {
   "cell_type": "code",
   "execution_count": 3,
   "metadata": {},
   "outputs": [
    {
     "name": "stdout",
     "output_type": "stream",
     "text": [
      "Count of reviews collected that meet criteria: 894\n",
      "Example individual review link https://www.imdb.com/review/rw4804358/\n",
      "Example Review: Thank you Marvel, End Game is an ending that give me speechless.\n"
     ]
    }
   ],
   "source": [
    "#Grab links to individual reviews and text from reviews as long as review has at least 10 characters\n",
    "all_review_links=[]\n",
    "all_reviews=[]\n",
    "for i in all_review_page_links:\n",
    "    #Go to review page for each movie\n",
    "    response2=requests.get(i)\n",
    "    soup2 = BeautifulSoup(response2.text, 'lxml')\n",
    "\n",
    "    #Check if review has any text has at least 10 characters\n",
    "    review_body=soup2.find_all('div',class_='content')\n",
    "    review_body_clean=[x.div.get_text().replace('\\n',' ') for x in review_body]\n",
    "    review_body_length_check=[len(x)>10 for x in review_body_clean]\n",
    "\n",
    "    #Grab link to individual review\n",
    "    review_header=soup2.find_all('a',class_='title')\n",
    "    ind_review_link=['https://www.imdb.com'+x.get('href') for i,x in enumerate(review_header) if review_body_length_check[i]]\n",
    "\n",
    "    #Paste review link and review text to lists\n",
    "    all_review_links.extend(ind_review_link)\n",
    "    all_reviews.extend([x for i,x in enumerate(review_body_clean) if review_body_length_check[i]])\n",
    "    \n",
    "print(\"Count of reviews collected that meet criteria:\",len(all_review_links))\n",
    "print('Example individual review link',all_review_links[2])\n",
    "print('Example Review:',all_reviews[2])"
   ]
  },
  {
   "cell_type": "markdown",
   "metadata": {},
   "source": [
    "## 2.\tExtract noun phrase (NP) chunks from your reviews using the following procedure:\n",
    "- In Python, use BeautifulSoup to grab the main review text from each link.  \n",
    "- Next run each review text through a tokenizer, and then try to NP-chunk it with a shallow parser. \n",
    "- You probably will have too many unknown words, owing to proper names of characters, actors, and so on that are not in your working dictionary. Make sure the main names that are relevant to the movies in your collection of reviews are added to the working lexicon, and then run the NP chunker again.\n"
   ]
  },
  {
   "cell_type": "markdown",
   "metadata": {},
   "source": [
    "Now, we are gathering the top actor and character names that are relevant to the movies being reviewed. These can help capture any key names that are missed when chunking."
   ]
  },
  {
   "cell_type": "code",
   "execution_count": 4,
   "metadata": {},
   "outputs": [
    {
     "name": "stdout",
     "output_type": "stream",
     "text": [
      "Amount of unique character and actor names gathered: 475\n"
     ]
    }
   ],
   "source": [
    "#Grab all top actor and character names for lexicon\n",
    "actor_holder=[]\n",
    "character_holder=[]\n",
    "for i in movie_id:\n",
    "    url = 'https://www.imdb.com/title/'+ i\n",
    "    response3=requests.get(url)\n",
    "    soup3 = BeautifulSoup(response3.text, 'lxml')\n",
    "    actors=soup3.find_all('a',{'data-testid':\"title-cast-item__actor\"})\n",
    "    actors_clean=[x.get_text() for x in actors]\n",
    "    actor_holder.extend(actors_clean)\n",
    "\n",
    "    characters=soup3.find_all('a',{'data-testid':\"cast-item-characters-link\"})\n",
    "    characters_split=[x.get_text().split() for x in characters]\n",
    "    characters_clean=[' '.join(x[int(-len(x)/2):]) for x in characters_split]\n",
    "    character_holder.extend(characters_clean)\n",
    "\n",
    "key_names=list(set(actor_holder+character_holder))\n",
    "print('Amount of unique character and actor names gathered:',len(key_names))"
   ]
  },
  {
   "cell_type": "markdown",
   "metadata": {},
   "source": [
    "I shuffled the list so the requested final output of 100 reviews will be a mix of positive and negative reviews from multiple movies. Over 800 reviews were gathered."
   ]
  },
  {
   "cell_type": "code",
   "execution_count": 5,
   "metadata": {},
   "outputs": [],
   "source": [
    "#Make a copy of raw review list and shuffle it so that positive and negative reviews from all the movies are mixed together\n",
    "#I did this because we will only be taking 100 out of >800 reviews\n",
    "review_list=all_reviews.copy()\n",
    "random.seed(4)\n",
    "random.shuffle(review_list)"
   ]
  },
  {
   "cell_type": "markdown",
   "metadata": {},
   "source": [
    "Using spacy, I chunked the noun phrases. Using NLTK word tokenizer and the key actor and character list gathered above, I was able to capture any missed key names and add them to the chunked noun phrases."
   ]
  },
  {
   "cell_type": "code",
   "execution_count": 6,
   "metadata": {},
   "outputs": [
    {
     "name": "stdout",
     "output_type": "stream",
     "text": [
      "Amount of missed names identified and corrected: 4\n"
     ]
    }
   ],
   "source": [
    "#Use Spacy to output noun phrases and NLTK to tokenize for name searches\n",
    "nlp = spacy.load(\"en_core_web_sm\")\n",
    "changes=[]\n",
    "review_chunks=[]\n",
    "for i,v in enumerate(review_list[0:100]): #loop through review list (can change from first 100)\n",
    "    doc = nlp(v)\n",
    "    noun_phrases=[str(x).lower() for x in doc.noun_chunks]\n",
    "    tokenized_review=nltk.word_tokenize(v.lower())\n",
    "    tokenized_noun_phrases=nltk.word_tokenize(' '.join(noun_phrases))\n",
    "    for name in key_names: #loop through name list\n",
    "            split_name=name.lower().split()\n",
    "            name_length=len(split_name)\n",
    "            for index,tag in enumerate(tokenized_review): #loop through tokenized review list to determine if name is in the review\n",
    "                tag_subset=tokenized_review[index:index+name_length]\n",
    "                tag_clean=' '.join(tag_subset)\n",
    "                if tag_clean==name.lower() and name.lower() not in ' '.join(noun_phrases): #If name is in review and name is not in chunked NP, then append\n",
    "                    noun_phrases.append(name)\n",
    "                    changes.append('index'+str(i)+':'+tag_clean)\n",
    "    review_chunks.append(noun_phrases)\n",
    "\n",
    "print('Amount of missed names identified and corrected:',len(changes))"
   ]
  },
  {
   "cell_type": "markdown",
   "metadata": {},
   "source": [
    "Print first 100 reviews with noun phrase chunks extracted from the shuffled review list."
   ]
  },
  {
   "cell_type": "code",
   "execution_count": 7,
   "metadata": {},
   "outputs": [
    {
     "name": "stdout",
     "output_type": "stream",
     "text": [
      "REVIEW 1: ['what a movie', 'i', 'it', 'i', 'it', '100%.great movie']\n",
      "\n",
      "REVIEW 2: ['i', 'deadpool', 'i', 'deadpool', 'the only thing', 'i', 'morena baccarin', 'vanessa', 'she', 'she', 'the beginning', 'the end', 'it', 'senseless violence', 'it', 'the worst superhero movies', 'i', 'batman', 'robin', 'i', 'it', 'one star', 'vanessa']\n",
      "\n",
      "REVIEW 3: ['i', 'i', 'the best marvel film', 'i', 'other marvel films', 'i', 'this film', 'its own merits', 'i', 'they', 'ragnarok', 'what', 'a 10star']\n",
      "\n",
      "REVIEW 4: ['the marvel movies', 'the issues', 'a second viewing', 'many more flaws', 'the way', 'you', 'decent special effects', 'this one', 'a shot', 'you', 'this film', 'its sequel', 'the lower echelon', 'mcu films', 'the likes', 'age', 'ultron', 'thor', 'the dark world', 'this film', 'me', 'moments', 'excessive and wholly inappropriate instances', 'tonal whiplash', 'embarrassing dialogue', 'pym', 'his daughter', 'a very well-acted emotional exchange', 'a lazy one-liner', 'scott lang', 'the most egregious bit', 'the film', 'it', 'the movie', 'i', 'ant-man', 'i', 'this scene', 'i', 'michael douglas', 'marvel', 'his efforts', 'these movies', 'bad movie']\n",
      "\n",
      "REVIEW 5: ['i', 'this film', 'it', 'just pure entertainment', 'start', 'the characters']\n",
      "\n",
      "REVIEW 6: ['downside', 'i', 'the cinema', '1 hr', 'study', 'the lobby', '00:00) upside', 'i', 'a great deal', 'this movie', 'it', 'i', 'the theater', 'the film', 'they', 'what', 'i', 'culture', 'american culture', 'all its heroes', 'all its need', 'innocent lives', 'just a hypocrisy', 'the atrocities', 'us', 'history', 'i', 'it', 'you', 'every single part', 'the movie', 'i', 'the contrary', 'i', 'what', 'they', 'not even the actors', 'this piece', 'excrement', 'i', 'it', 'some point', 'the pain', 'my boyfriend', 'a fan', 'i', 'he', 'what', 'i', 'the reason', 'i', 'the fact', 'my anger', 'more and more every time', 'i', 'someone', 'people', 'like 3 seconds', 'this very idiotic joke', 'i', 'some anger issues', 'this movie', 'me', 'full animal', 'i', 'imdb', 'the \"attach photo\" option', 'i', \"my face's disgusted look\", 'it', 'the world']\n",
      "\n",
      "REVIEW 7: ['i', 'the previous movies', 'i', 'who', 'the avengers', 'i', 'a moment', 'this movie', 'good guys', 'bad guys', 'bad guys', 'good guys', 'they', 'new characters', 'magical technologies', 'the movie', 'i', 'you', 'a hero', 'you', 'a problem', 'you', 'your own stupidity', 'all the shooting', 'explosions', 'fire', 'radiation', 'killer', 'robots', 'not one innocent person', 'a nosebleed', 'i', 'they', 'an entire flying city', 'good work', 'writers', 'blood', \"the avengers' hands\"]\n",
      "\n",
      "REVIEW 8: ['ryan reynolds', 'dead pool', 'that wolverine movie', 'i', 'flashes', 'excellwnce', 'i', 'ryan reynolds movies', 'blade trinity', \"'coolege\", 'a film', 'dead pool', 'ryan reynolds', 'i', 'they', 'the character', 'any better justice', 'the films']\n",
      "\n",
      "REVIEW 9: ['the dumbest movie', 'i', 'thanos', 'the first five minutes', 'the movie', 'they', 'the rest', 'the movie', 'flashbacks', 'the other avenger movies', 'it', 'recycled material', 'the whole production', 'five minutes']\n",
      "\n",
      "REVIEW 10: ['they', 'face time', 'they', 'i', 'the script', 'a bunch', 'preschoolers', 'the actors agents', 'the story', 'the characters', 'you', 'them', 'the movies', 'biggest problem', 'the chemistry', 'the leads', 'they', 'best friends', 'screen', 'they', 'it', 'the heroes', 'the suit', 'heir mask', 'they', 'their face mask', 'their face', 'everyone', 'michael douglas', 'b list', 'wasp', 'they', 'her', 'humans size', 'they', 'her face', 'her unmasked face', 'almost every other scene', 'they', 'she', 'the bad guys', 'she', 'she', 'she', 'they', 'her', 'problem', 'her']\n",
      "\n",
      "REVIEW 11: ['i', 'just so much so extreme things', 'the graphics', 'topic', 'so many things', 'shape', 'itself', '10 star rating', 'everything', 'both small and large stuff', 'so many jokes', 'characters', 'devices', 'abilities', 'nice presence', 'that new character', 'csi', 'fbi', 'police', 'that foe', 'i', 'foe', 'other movies', 'good topic', 'quantum physics', 'i', 'it', 'it', 'life', 'death', 'space', 'time', 'so good feeling', 'possibility', 'some toy', 'real stuff', 'many scientist', 'it', 'reality', 'hot girl', 'all characters', 'some way', 'bit unrealistic and extreme story', 'any way', 'me', 'the graphics', 'mix', 'emotions', 'mostly feeling', 'excitement', 'worry', 'the end', 'also many unpredictable things', 'common things', 'spiderman']\n",
      "\n",
      "REVIEW 12: ['it', 'i', 'so much fun', 'the movie', 'it', '3 hours', 'we', 'the cinema', 'i', 'tony stark', 'a drama', 'his wife', 'she', 'him', 'everything', 'the sceine', 'tony stark', 'he', 'i', 'everything']\n",
      "\n",
      "REVIEW 13: ['the movie', 'i', 'the theatre', 'the show', 'marvel', 'junk']\n",
      "\n",
      "REVIEW 14: ['i', 'the writing', 'i', 'the worst movie', 'i', 'a long time', 'no hate', 'the actors', 'even some fight scenes']\n",
      "\n",
      "REVIEW 15: ['summary', 'a terrible movie', 'history', 'the worst marvel movie', 'all time', 'me', 'the marvel journey', 'infinity war', 'what', 'the russo brothers', 'end game', 'an insult', 'all the fans.----spoilers', 'ahead----', '3 hours', 'you', 'a well structured story', 'the movie', 'the movie', 'you', 'the flow', 'they', 'tony', \"nebula's situation\", 'thanos', 'time travel', 'the soul stone', 'so many plot holes', 'time', 'heroes powers', 'everything', 'hulk', 'they', 'professor hulk', 'you', 'a great idea', 'the execution', 'the strongest super heroes', 'a shrek', 'a like character', 'who', 'nothing', '3 hoursthor', 'they', 'this character', 'it', 'what', 'they', 'him', 'thor', 'the bar', 'ragnarok and infinity war', 'the greatest marvel character', 'they', 'him', 'this movie', 'iron man', 'the one', 'who', 'it', 'poetic justice', 'they', 'it', 'him', 'it', 'it', 'sense', 'a gauntlet', 'infinity war', 'it', 'the avengers', 'it', \"stark's technology\", 'tony', 'the stones', 'thanos arms', 'it', 'iron man', 'all the stones', 'the power', 'what', 'most creatures', 'sense)forced comedy', 'marvel', 'justice league', 'you', 'comedy', 'what', 'a serious movie', 'you', 'a really...bad movie']\n",
      "\n",
      "REVIEW 16: ['it', 'i', 'it', 'a 9 star rating', 'i', 'superheroes', 'stupid things', 'a storyline', 'this spiderman', 'the crown', 'stupidity', 'doctor', 'what', 'a kid', 'spiderman', 'the whole world', 'him', '2 others', 'admission', 'some crap', 'i', 'tom holland', 'the worst spiderman', 'this movie', 'the worst spiderman movie', 'i', 'the best spiderman', 'tobey maguire', 'he', 'Doctor Strange']\n",
      "\n",
      "REVIEW 17: ['i', 'this review', 'the one person', 'all these 1 star reviews', 'different accounts', 'me', 'this movie', 'everything', 'you', 'a marvel movie', 'the plot', 'the characters', 'their stories', 'the perfect marvel movie', 'me', 'i', 'it', 'the start', 'the movie', 'a flashback', \"n'jobu\", 'a heist', 'some sorts', 'he', 'the need', 'the guns', 'members', 'the dora milan', 'a army', 'women', 'his door', 'who', 'zuri', 'they', 'the door', 'the lights', \"king t'chaka\", 'him', \"n'jobu\", 'his actual name', 'brothers', 'zuri', 'who', \"n'jobu\", 'a spy', 'wakanda', 'me', 'a few lines', 'erik killmonger', \"n'jadaka\", 'me', 'my ancestors', 'who', 'the end', 'killmonger', 'me', 'the oceans', 'my ancestors', 'who', 'the ships', 'they', 'that death', 'bondage', 'me', 'my ancestors', 'slavery', 'the ships', 'me', 'another line', 'me', 'killmonger', 'i', 'weeks', 'the whole country', 'i', 'him', 'someone', 'me', 'i', 'the chains', 'part', 'me', 'slavery', 'conclusion', 'this movie', 'the african cast', 'it', 'racial references', 'it', 'amazing writing', 'it', 'what', 'you', 'a marvel movie', 'a very, very good thing']\n",
      "\n",
      "REVIEW 18: ['avengers', 'age', 'ultron', 'ant-man', 'a lot', 'a year', 'the critical and financial successes', 'captain america', 'the winter soldier', 'guardians', 'the galaxy', 'it', 'paul rudd', 'a really nice job', 'the well-meaning thief', 'who', 'hank pym', 'michael douglas', 'a heist', 'the nefarious yellowjacket', 'the special effects', 'cinematography', 'russell carpenter', 'the guy', 'who', 'the cinematography', 'this film', 'the cinematography', 'the indian', 'the cupboard', 'another small-size movie', 'the fight scenes', 'it', 'it', 'a fun film', 'the marvel cinematic universe', 'the credits', 'an extra scene']\n",
      "\n",
      "REVIEW 19: ['about 100k reviews', 'the average user rating', 'avengers', 'endgame', 'infinity war', 'about 620k', 'i', 'this assessment', 'it', 'i', 'all the negative reviews', 'infinity war', 'endgame', 'endgame', 'such garbage', 'a doubt', 'a case', 'the criticisms', 'the critic', 'what', 'they', 'the film', 'their own disposition', 'attitudes', 'them', 'a positive perception', 'they', 'their pretentiousness', 'their petulance', 'their own responsibility', 'the chagrin', 'this minority', 'the majority', 'what', 'endgame', 'the time', 'it', 'infinity war', 'i', 'i', 'the arrogance', 'contempt', 'people', 'they', 'a better result', 'what', 'they', 'it', 'vogue', \"i'm\", 'the majority', 'viewers', 'content', 'avengers', 'endgame', 'the film sub par', 'a great amount', 'cynicism', 'disenchantment', 'you', 'plot holes', 'whatever other discrepancies', 'the film', 'it', 'you', 'you', 'your own misery', 'life', 'life', 'nothing', 'a personal opinion', 'particular disposition', 'i', 'it', 'disillusionment', 'negativity', 'its proper place', 'objective perspective', 'to imdb', 'user review', 'infinity war', 'endgame', 'holding', 'i', 'the consensus', 'a few months', 'further reviews']\n",
      "\n",
      "REVIEW 20: ['very mysterioscheerios', 'breakfast', 'no spoilers']\n",
      "\n",
      "REVIEW 21: ['you', 'this movie', 'something', 'you', 'the advertisement', 'the most fun', 'you', 'the theaters', 'they', 'the money', 'i', 'a blast', 'i', 'movies', 'over-analyze and critique every little detail', 'i', 'the movies', 'fun', 'i', 'they', \"marvel's agents\", 's.h.i.e.l.d.', 'the movie', 'the episode', 'i', 'they', 'robert downey jr.', 'tony stark', 'the first iron man film', 'the running gag', 'captain america', 'the rest', 'the crew', 'bad language', 'the visual effects', 'the return', 'the s.h.i.e.l.d. heli-carrier', 'hawkeye', 'a wife', 'kids', 'a nice surprise', 'the whining', 'black widow', 'a back seat', 'the rest', 'the guys', 'i', 'it', 'the avengers', 'a team', 'they', 'i', 'any one avenger', 'the movie', 'the rest', 'the group', 'all the focus', 'widow', 'they', 'the scarlet witch', \"hawkeye's pep talk\", 'she', 'everything', 'sight', 'herself', 'a spot', 'the team', 'the swerve', 'quicksilver', 'himself', 'hawkeye', 'the little boy', 'all movie', 'it', 'hawkeye', 'the one', 'james spader', 'a great villain', 'the voice', 'ultron', 'i', 'the comedy', 'his lines', 'place', 'an evil robot', 'all mankind', 'i', 'they', 'the pieces', 'the next series', 'movies', 'civil war', 'black panther', 'thor', 'ragnarok', 'avengers', 'infinity war']\n",
      "\n",
      "REVIEW 22: ['a corny movie', 'children', 'poor script', 'acting', 'actors', 'zendaya', 'political correctness']\n",
      "\n",
      "REVIEW 23: ['superheroes', 'real life', 'humans', 'everyone', 'flaws', 'emotions', 'weaknesses', 'i', 'it', 'it', 'another wolverine movie', 'i', 'i', 'a movie', 'how brutal life', 'a fantasy life', 'most superhero movies', 'i', 'sad disney', 'fox studios', 'this kind', 'movies', 'it', 'an epic experience']\n",
      "\n",
      "REVIEW 24: ['# times', '1st', '1/2the 1st movie', '2nd movie', 'characters', 'plot', 'all that money', 'talent', 'their disposal', 'only explanation', 'they', 'it', 'i', 'this movie', 'nothing', 'it', 'it', 'this movie', 'spoiler', 'you', 'the first movie', 'yourself', 'a big favour', 'this one', 'you', 'it', 'i']\n",
      "\n",
      "REVIEW 25: ['spider', 'man lovers - fun', 'action', 'tip', 'toe']\n",
      "\n",
      "REVIEW 26: ['this cast', 'tom', 'the worst spider man', 'this mj', 'the history', 'spider men', 'what', 'the problem', 'white people', 'this movie', 'the exception', 'aunt may', 'most white women', 'the bottom', 'the screen', 'their backs', 'so non-white women']\n",
      "\n",
      "REVIEW 27: ['thor ragnarok', 'the producer', 'kevin feige', 'the main character', 'cast', 'chris hemsworth', 'thor', 'tom hiddleston', 'loki', 'tessa thompson', 'valkyrie', 'mark ruffalo', 'cate blanchett', 'hela', 'this film', 'quite a few nominees', 'i', 'the saturn award', 'action', 'motion picture', 'best supporting actress', 'tessa thompson', 'critics choice award', 'chris hemsworth', 'the best actor', 'a comedy', 'my opinion', 'this movie', 'it', 'a great action', 'comedy film', 'this film', 'place', 'space', 'the big picture', 'thor', 'his friends', 'many different planets', 'the galaxy', 'this film', 'this film', 'thor', 'his friends', 'people', 'he', 'the way', 'asgard', 'they', 'it', 'asgard', 'itself', 'this movie', 'the perfect balance', 'action', 'humor', 'thor', 'his friends', 'the grandmaster ship', \"each individual character's personality\", 'the film', 'this film', 'it', 'you', 'the edge', 'your seat', 'what', 'i', 'this movie', 'this movie', 'thor', 'his friends', 'an adventure', 'asgard', 'he', 'some friends', 'the way', 'they', 'asgard', 'the chaotic hela', 'the movie', 'you', 'the edge', 'your seat', 'what', 'thor', 'a humorous and action-packed movie', 'all its unique and interesting characters', 'their relationships', 'thor', 'his friends', 'a more important message', 'the end', 'the story', 'this movie', 'emphasis', 'family', 'friends', 'things', 'certain characters', 'this film', 'the movie', 'the grand masters character', 'an arrogant, egotistical ruler', 'the planet', 'they', 'an example', 'i', 'thor', 'ragnarok', 'the grand master', 'he', 'loki', 'he', 'you', 'i', 'a public execution', 'i', 'who', 'him', 'you', 'the clock', 'i', 'everyone', 'a pretty good idea', 'his wild personality', 'another character', 'i', 'korg', 'he', 'my favorites', 'the movie', 'fact', 'the example', 'i', 'him', 'thor', 'him', 'anyone', 'the grand masters champion', 'he', 'doug', 'you', 'i', 'anyone', 'who', \"the grandmaster's champion\", 'you', 'him', 'you', 'korg', 'my favorite characters', 'the movie', 'valkyrie', 'the characters', 'the movie', 'her prevalent alcoholism', 'raw personality', 'i', 'the characters', 'this movie', 'other moments', 'thor', 'i', 'lokis', 'the beginning', 'loki', 'actors', 'he', 'them', 'the scene', 'him', 'thor', 'a previous avenger movie', 'the humor', 'this movie', 'the movie', 'another moment', 'skurge', 'the girls', 'his shake weights', 'he', 'earth', 'all the other deadly weapons', 'one scene', 'loki', 'thor', 'they', 'thor', 'loki', 'loki', 'help', 'a distraction', 'the fight', 'hulk', 'thor', 'pure entertainment', 'i', 'it', 'it', 'its cool', 'them', 'another movie', 'thor', 'the grand masters', 'champion', 'he', 'it', 'the hulk', 'he', 'hulk', 'him', 'they', 'hulk', 'him', 'it', 'thor', 'thor', 'the fight', 'he', 'the hulks weakness', 'he', 'him', 'another moment', 'i', 'thor', 'dr. strange', 'he', 'his magic', 'thor', 'he', 'the song', 'they', 'the beginning', 'end', 'something', 'i', 'it', 'the mood', 'the action', 'the more inappropriate scenes', 'thor', 'the grand masters planet', 'they', 'his ship', 'thor', 'he', 'the button', 'valkyrie', 'she', 'the grand-master', 'it', 'his parties', 'orgies', 'i', 'the ending scenes', 'angry hulk', 'the monster', 'asgard', 'thor', 'once hulk', 'i', 'all the funny scenes', 'the movie', 'pretty much nothing', 'i', 'i', 'it', 'my review', 'you guys', 'it', 'the movie', 'it', 'a great movie', 'the movie', 'the silly humor', 'the message', 'it', 'the end', 'it', 'just an action movie', 'it', 'a message', 'the end', 'you', 'the marvel movies', 'this movie', 'you', 'the best marvel movies', 'i', 'this movie', '5 stars']\n",
      "\n",
      "REVIEW 28: ['they', 'mysterio', 'a high-tech non magical villian']\n",
      "\n",
      "REVIEW 29: ['this movie', 'collecting actors', 'very popular characters', 'the reasons', 'the success', '\"avengers', 'infinity war']\n",
      "\n",
      "REVIEW 30: ['hey everyone', 'this movie', 'garbage', 'the scene', 'the beginning', 'screen', 'iron man', 'the ship', 'some people', 'they', 'no one', 'this spider-man', 'everything', 'he', 'iron man', 'he', 'his own suit', 'just a latex iron man suit', 'him', 'generic, churn-out']\n",
      "\n",
      "REVIEW 31: ['black panther', 'the worst movie', 'i', 'marvel', 'such ratings', 'an idiotic and crazy plot', 'the standards', 'the pictures', 'marvel studios', 'afro-american cast', 'logical and subject holes', 'it', 'so boring movie', 'i', 'the second time', 'the african country', 'i', 'one material', 'the rest', 'the world', 'the only \"light spot', 'this movie', 'it', 'the high ratings', 'black panther', 'a spittle', 'all world cinema', 'it', 'the movie', 'he', 'passage', '5-10 years', 'nobody', 'him', 'but awards', 'the oscar', 'other recognition', '\"allegedly critics', 'irritation', 'Martin Freeman']\n",
      "\n",
      "REVIEW 32: ['the worst films', 'i', 'years', 'it', 'reality', 'this film', 'absolutely no sense', 'a batman', 'character', 'profanity', 'it', 'style', 'sympathy', 'the viewers', 'we', 'his terminal cancer diagnosis', 'what', 'this movie', 'who', 'that old blind woman', 'heat?how', 'the golden globes', 'ryan reynolds', 'best actor', 'this farce', 'the lord', 'he', 'the award', 'enough violence', 'this miserable film', 'a life-time']\n",
      "\n",
      "REVIEW 33: ['the way', 'marvel', 'things', 'the premise', 'lack', 'a better word', 'it', 'i', 'it', 'the movie', 'their plot', 'i', 'marvel', 'it', 'theaters', 'not a dvd', 'rental', 'they', 'it', 'netflix', 'another video service']\n",
      "\n",
      "REVIEW 34: ['10/10an excellent story', 'visual spirit', 'awesome fight sequences', 'a diverse cast', 'who', 'their roles', 'a load', 'action', 'moments', 'humour', 'bits', 'drama', 'a tad', 'romance', 'the best action scenes', 'i', 'captain america', 'the winter soldier', 'albeit a lot', 'difference', 'the two fighting styles', 'they', 'this movie', 'gold class', 'a recliner', 'a snack', 'the marvel franchise', 'it', 'the story', 'action', 'humour']\n",
      "\n",
      "REVIEW 35: [\"marvel's characters\", 'i', 'fox', 'it', 'the script', 'sexist', 'borderline racist', 'pseudo-intellectual drivel (obscure pop cultural references', 'the hell', 'african american woman', \"ryan reynold's arrogant white frat boy stupidity\", 'my first reaction', 'him', \"big al's shoulder\", 'his head', \"deadpool's world\", 'two types', 'women', 'his real life wife', 'blake lively)--the', '\"good woman', 'the trappings', 'traditional womanhood', 'her boyfriend/husband', 'her', 'him', 'the center', 'her universe', 'all the other women', 'the lesbian', 'the un-feminine', 'the older woman', 'the strong/violent woman', 'the woman', 'other priorities', 'pleasing men', 'it', 'the sole purpose', 'her existence', 'most women', 'a heckuvalot', 'more problems', 'responsibilities', 'life', 'circles', 'some guy', 'it', 'adolescent male arrogance', 'the \"inappropriate\" women', 'their silence', 'stark contrast', \"deadpool's endless prattle\", 'no smart alec retorts', 'them', 'only deadpool', 'his white male friends', \"deadpool's world\", 'neither women', 'people', 'color', 'a personality', 'strong opinions', 'an attitude', 'i', 'a huge science fiction', 'fantasy genre fan', 'fox', 'marvel', 'racially insensitive crap', 'i', 'my dollar', 'something', 'the movies']\n",
      "\n",
      "REVIEW 36: ['this movie', 'the main difference', 'a higher budget', 'the story', 'the effects', 'the characters', 'caricatures', 'the cinematography', 'i', 'this movie', 'everything', 'marvel movies', 'the better ones', 'you', 'a fun time', 'this movie', 'this movie', 'i', 'this review', 'it', 'the same praise', 'pretty much every aspect', 'very few bits', 'me', 'logic', 'just a great film']\n",
      "\n",
      "REVIEW 37: ['someone', 'me', 'what', 'the story', 'the movie', 'i', 'what', 'them', 'the movie', 'no point', 'i', 'a movie', 'good cg', 'the cg', 'the story', 'you', 'every other movie', 'the world', 'absolutely anything', 'anything', 'a logan paul vlog', 'your time']\n",
      "\n",
      "REVIEW 38: ['captain america', 'civil war', 'stars chris evans', 'robert downey jr.', 'scarlett johansson', 'sebastian stan', 'a bunch', 'other avengers', 'new faces', 'this emotionally driven action', 'drama', 'mystery', 'a split', 'the team', 'a very good purpose', 'the russo brothers', 'the winter soldier', 'this masterpiece', 'a film', 'they', 'themselves', 'the greatest directors', 'history', 'this film', 'it', 'slower scenes', 'a proper role', 'the story', 'the best action sequences', 'date', 'marvel', 'the infinite things', 'this film', 'the biggest cast', 'any movie', 'the longest run time', 'this movie', 'the others', 'two hours and twenty-six minutes run time', 'no time', 'you', 'that end credit sequence', 'the writing', 'christopher markus', 'stephen mcfeely', 'this movie', 'date', \"it's fluent dialogue\", 'great scene construction', 'paper', 'i', 'actors', 'this film', 'they', 'the emotion', 'each scene', 'a single line', 'dialogue', 'place', 'this film', 'it', 'the best script', 'date', 'marvel', 'even the jokes', 'the film', 'the more comic relief characters', 'the most nail biting scenes', 'the most perfect times', 'it', 'such a big cast', 'it', 'a captain america film', 'the primary focus', 'cap', 'bucky', 'them', 'the truth', 'some things', 'the acting', 'any other film', 'i', 'the mcu', 'thanks', 'marvel', 'the most perfect actors', 'their films', 'them', 'names', 'history', 'them', 'the biggest highlight', 'me', 'the sternness', 'rogers', 'stark', 'this film', 'some hints', 'the previous films', 'their possible blow', 'this film', 'that tension', 'the end', 'i', 'tears', 'the overall outcomes', 'scenes', 'the immediate aftermath', 'the events', 'the film', 'captain america', 'civil war', 'a flawless film', 'not a single problem', 'it', 'everything', 'it', 'what', 'future movies', 'captain america', 'civil war']\n",
      "\n",
      "REVIEW 39: ['the movie', 'captain america civil war', 'they', 'many surprising scene', 'strong action', 'cool fight', 'it', 'the marvel comics civil war', 'captain america', 'iron man', 'captain america', 'iron man', 'the comics', 'mcu', 'a great movie']\n",
      "\n",
      "REVIEW 40: ['i', 'all the fake reviews', 'this movie', 'a total garbabe']\n",
      "\n",
      "REVIEW 41: ['the ant-man movie', 'it', 'a little bit', 'everything', 'it', 'origin stories', 'marvel', 'it', 'a hitch', 'the best way', 'movies', 'the casting director', 'an actor', 'a different genre', 'the actor', 'their element', 'the role', 'everyone', 'this movie', 'a lot', 'criticism', 'due director change', 'an relatively unknown comic book character', 'any character', 'you', 'a good story', 'actor', 'director', 'you', 'big names', 'big budgets', 'just talented and committed individuals', 'ant-man', 'comic books', 'the 60s', 'members', 'the avengers', 'a background character', 'background characters', 'the main character', 'it', 'a fan', 'everything', 'something', 'a movie', 'you', \"n't fifty plus years\", 'information', 'a two hour movie', 'everyone', 'i', 'marvel', 'an ant-man', 'they', 'a new and unique villain', 'this new media hero']\n",
      "\n",
      "REVIEW 42: ['i', 'i', 'movies', 'their sound and visual experience', 'i', 'an audiophile', 'i', 'many reviews', 'this movie', 'this movie', 'a try', 'it', 'great critic reviews', 'the looks', 'the reviews', 'average reviews', 'i', 'the reviews', 'stars', 'an action', 'superhero movie', 'all the aspects', 'you', 'great theatrics', 'action', 'plot', 'i', 'reviews', 'a means', 'a movie', 'this movie', 'some reason', 'this movie', 'the board', 'an audiophile viewpoint', 'it', 'the computer', 'imagery', 'sound', 'a pure movie watcher experience', 'i', 'the overall plot', 'the storyline', 'i', 'a comic book person', 'the movies', 'this movie', 'me', 'the characters', 'the country', 'it', 'their people', 'we', 'a lot', 'this movie', 'the fact', 'we', 'a lot', 'i', 'this movie', 'its point', 'view', 'its great theatrical presence']\n",
      "\n",
      "REVIEW 43: ['i', 'all these movies', 'they', 'hulk, thor, cap america, iron man', 'the avengers', 'i', 'it', 'another avengers movie', 'it', 'captain america', 'civil war', 'huh', 'you', 'the avengers', 'a civil war', 'what', 'it', 'thor', 'hulk', 'loki', 'i', 'you', 'the point', 'we', 'it', 'budget issues', 'they', 'the avengers', 'they', 'confusion', 'sudden, half the avengers', 'cap', 'what', 'the plot', 'this whole movie', 'random spider', 'man', 'ant man', 'this point', 'explosions', 'sh*t', 'anyone', 'sense', 'these movies', 'cap', 'the nazis', 'something', 'thor/loki', 'he', \"tony stark's father\", 'cap', 'umm cap', 'peggy', 'she', 'stuff', 'shield', 'something', 'hydra', 'loki', 'thor', 'him', 'iron man', 'suits', 'black widow', 'tight tight clothes', 'she', 'ballet', 'kissed cap', 'hulk', 'wtf', 'robin hood', 'a secret family', 'who', 'that guy', 'a panther suit', 'f', 'you', 'white noise', 'the movie', 'you', 'confusing', 'white noise', 'the movie']\n",
      "\n",
      "REVIEW 44: ['the best marvel movies', 'highly nostalgic', 'all the characters', 'closure', 'it', 'our favourite characters']\n",
      "\n",
      "REVIEW 45: ['it', 'i', 'this movie', 'i', 'it', 'i', 'any bad thing', 'it', 'it']\n",
      "\n",
      "REVIEW 46: ['i', 'a big spider-man fan', 'i', 'i', 'this movie', 'it', 'mysterio', 'a good guy', 'i', 'they', 'the twist', 'it']\n",
      "\n",
      "REVIEW 47: ['lotsa flashing lights', 'loud noises', '\"the wolverine', 'the second one', 'what', 'i', 'a popcorn flick']\n",
      "\n",
      "REVIEW 48: ['i', 'the character', 'korg', 'i', 'great casting', 'mostly only new zealand', 'australians']\n",
      "\n",
      "REVIEW 49: ['the best sequels', 'a movie', 'wasp', 'this movie', 'supporting cast', 'the movie', 'ghost', 'my favorite villains', 'the mcu']\n",
      "\n",
      "REVIEW 50: ['tom holland', 'the heart', 'the character', 'michael keaton', 'the 3rd best villain', 'the mcu', 'thanos', 'loki', 'best spiderman movie']\n",
      "\n",
      "REVIEW 51: ['this movie', 'the best marvel movies', 'the badass action scenes']\n",
      "\n",
      "REVIEW 52: ['what', 'i', 'its just a side story', 'nothing', 'thanos', 'what', 'the universe', 'it']\n",
      "\n",
      "REVIEW 53: ['poor jokes', 'plenty', 'product placement', 'poor performances', 'jokes', 'boot', 'a few coolish moments', '2 hours']\n",
      "\n",
      "REVIEW 54: ['i', 'it', 'the ridiculous 1s-5s', 'it', 'a good movie', 'the best spider-man movie', 'you people']\n",
      "\n",
      "REVIEW 55: ['what shoes', 'spider-man', 'venice', 'small tip', 'n', 'e.', 'whoever', 'free n**e sneakers']\n",
      "\n",
      "REVIEW 56: ['i', 'the violence', 'the language', 'a series', 'movies', 'anything', 'the previous movies', 'i', 'deadpool', 'i', 'such things', 'i', 'it', 'a wolverine movie', 'the story', 'the lack', 'explanation', 'what', 'the rest', 'the x-men', 'xmen-3', 'dofp', 'this piece', 'crap']\n",
      "\n",
      "REVIEW 57: ['the first movie', 'deadpool', 'what', 'you', 'the comics', 'this movie', 'just a mess', 'time travel', 'too many plot failures', 'i', 'them', 'writers', 'short cuts', 'i', 'individual scenes', 'a movie', 'meh']\n",
      "\n",
      "REVIEW 58: ['i', 'a 10/10 movie', 'it', 'the trailer', 'this movie justice', 'the plot', 'the character development', 'the comedy']\n",
      "\n",
      "REVIEW 59: ['this isint', 'its cgi man', 'the whole movie']\n",
      "\n",
      "REVIEW 60: ['i', 'this movie', '12 other colleagues', 'we']\n",
      "\n",
      "REVIEW 61: ['movie', 'full entertainment', 'very good comedy', 'action scenes']\n",
      "\n",
      "REVIEW 62: ['i', 'some questions', 'michael douglas', 'more money', 'he', 'his house', 'he', 'such crap', 'this movie', 'any money', 'the producers', 'more efforts', 'good scenario', 'any good thing', 'this movie', 'hollywood', 'year', 'such super bad movies', 'the end', 'i', 'i', 'this movie', 'i', 'it', 'very very very bad movie', 'a shallow movie', 'a non-sense movie', 'a huge boring movie', 'it', 'a piece', 'stupidity', 'triviality', 'this movie', 'a complete crap', 'all means']\n",
      "\n",
      "REVIEW 63: ['i', 'the next one 😁']\n",
      "\n",
      "REVIEW 64: ['what', 'i', 'mcu fans', 'you', 'avengers endgame', 'it', 'it', 'my favorite films', 'i', 'my dad', 'black panther', 'ant-man', 'the wasp', 'venom', 'captain marvel', 'avengers infinity war', 'my favorite movie', 'the characters', 'the cgi', 'peter parker', '(tom holland', 'thanos', 'the funny part', 'the movie', 'scott lang', 'ant-man', 'a kid', 'an old man', 'a baby', 'i', 'that part', 'my favorite part', 'the avengers', 'the avengers', 'different worlds', 'thanos', 'thanos', 'the ending', 'i', 'this scene', 'i', 'the emotional ending scene', 'your dragon', 'i', 'it', 'it', 'i', 'that movie', 'i', 'the theater', 'the credits', 'i', 'that movie', 'i', 'it', \"disney's newest streaming service\", 'disney+', 'monday', 'november', 'this movie', 'dolby cinema', 'imax', 'sleep', 'the 3-hour movie!!!!note', 'i', 'this movie', 'an oscar', 'best picture', 'i', 'the movie', 'it', 'i', 'this movie', '10.9/10.9']\n",
      "\n",
      "REVIEW 65: ['deadpool', 'same gags', 'worse acting', 'no real storyline', 'man', 'what a blowout', 'waste', 'time']\n",
      "\n",
      "REVIEW 66: ['the black order', 'the villains', 'the unexpected ending', 'the good guys', 'comic book movies', 'infinity wars', 'none']\n",
      "\n",
      "REVIEW 67: ['i', 'high hopes', 'ant man', 'paul', 'my book', 'marvel', 'humor', 'action scenes', 'ant man', 'a ton', 'fun', 'i', 'the 3:30 3d', 'it', 'my whole family', 'it', 'awesome', 'what', 'ant man', 'the action', 'a load', 'intense moments', 'the comedy', 'the story', 'the acting', 'the 3d', 'it', 'it', '3d', 'the action scenes', 'the shrinking sequences', 'a whole new world', 'the viewing experience', 'one flaw', 'the movie', 'i', 'everybody', 'it', 'a great time', 'the end credits', 'two scenes', 'i', 'they', 'the haters- ant man', 'a perfect movie', 'Paul Rudd']\n",
      "\n",
      "REVIEW 68: ['guardians', 'the galaxy vol', 'i', 'it', 'a hard time', 'the perfect blend', 'humor', 'action', 'the first guardians', 'vol', 'i', 'it', 'a perfect balance', 'humor', 'action', 'even tear-jerking drama', 'i', 'it', 'i', 'vol', 'the first guardians movie', 'chris pratt', 'such a brilliant job', 'dry, understated humor', 'it', 'his performance', 'i', 'the rest', 'the theater', 'it', 'a good reminder', 'just what great comedic talent', 'he', 'what', 'genuinely serious superhero movies', 'kurt russell', 'a talented actor', 'whom', 'i', 'recent years', 'a brilliant job', \"star lord's father\", 'the same time', 'he', 'us', 'i', 'a shout', 'zoe saldana', 'who', 'you', 'uhura', 'the kelvin timeline', 'star trek movies', 'it', 'anyone', 'the role', 'life', 'nichelle nichols', 'original star trek', 'i', 'zoe', 'all that green makeup', 'the first guardians movie', 'who', 'she', 'vol', 'i', 'her range', 'an actress', 'she', 'gamora', 'her uhura', 'another talented actress', 'i', 'all her makeup', 'prosthetics', 'karen gillian', 'who', 'you', 'the red-haired beauty', 'who', 'amy pond', '36 episodes', 'doctor who', 'her range', 'an actress', 'her character', 'nebula', 'her amy', 'sean gunn', 'perhaps a less-familiar actor', 'you', 'me', 'both superhero movies', '\"chick\" shows', 'the same sort', 'lovably bumbling humor', 'the character', 'kraglin', 'the movie', 'he', 'the gilmore girls tv series', \"gunn's performance\", \"the movie's ability\", 'the entire audience', 'chris pratt', 'the screen', 'you', 'vol', 'a gander', 'the internet movie database', \"the movie's cast\", 'you', 'several other talented actors', 'roles', 'makeup', 'cgi', 'them', 'you', 'the movie', 'the list', 'others', 'you', 'you', 'me', 'me', 'you', 'you', 'the movie', 'imdb', 'i', 'i', \"the movie's absolutely outstanding use\", '1970s music', 'someone', 'the production crew', 'the same time', 'i', 'i', 'him', 'her credit', 'some great songs', 'our youth', 'the events', 'the movie', 'the first movie', 'good period music', 'i', 'it', 'the appropriate use', '1970s music', 'the filmmakers', 'the vol', '. 2 movie guardians', 'you', 'guardians vol', 'i', 'the movie', 'a single darned spoiler', 'you', 'the closing credits', 'during-credits', '-credits', 'attention', 'both the words', 'the images', 'the credits', 'themselves', 'you', 'even more humor', 'guardians', 'the galaxy vol', 'another unqualified cinematic triumph', 'the marvel cinematic universe', 'the stage', 'what', 'a major dc comics fan', 'more than half a century', 'i', 'i', 'the dc expanded universe movies', 'even a quarter', 'as much talent', 'live-action dc superhero movies', 'any chance', 'warner brothers', 'the leading creative lights', \"disney's marvel studios\", 'at least one superhero movie']\n",
      "\n",
      "REVIEW 69: ['i', 'this film', 'me', 'lots', 'fun', 'the film', 'a child', 'me', 'a villain', 'a villain']\n",
      "\n",
      "REVIEW 70: ['writer', 'i', 'a lot', 'jokes', 'what', 'them', 'producer', \"'s\", 'all the jokes', 'them', 'a movie', 'writer', 'what', 'the plot', 'who', 'loads', 'cgi', 'the jokes', 'it', 'work.\"this', 'the mentality', 'guardians', 'the galaxy vol', 'my word', 'what', 'the humor', 'the first film', 'it', 'only americans', 'it', 'this film', 'humor', 'cgi', 'an inch', 'seriousness', 'reality', 'the entire film', 'the feuding sisters', 'gamora', 'nebula', 'it', 'i', 'the galaxy', 'one', 'too many ingredients', 'a recipe', 'every level', 'the action scenes', 'the visual effects', 'it', 'a hurry', 'the use', 'cgi', 'times', 'i', 'i', 'an animated film', 'a computer game', 'a lot', 'time', 'unnecessary silly moments', 'i', 'the remote control', 'these awful scenes', 'so much inconsistency', 'the film', 'the premise', 'nothing', 'the characters', 'scenes', 'drax', 'blue eyes', 'the times', 'they', 'they', 'the first film', 'drax', 'he', 'the only character', 'i', 'the film', 'only dave bautista', 'the film', 'i', 'peter quill', 'this film', 'rocket', 'halle berry', 'gamora', 'her avocado', 'facial mud mask', 'baby groot', 'i', 'the first film', 'i', 'nothing', 'i', 'i', 'it', 'no', 'ugh']\n",
      "\n",
      "REVIEW 71: ['hipster glasses', 'i', 'the original trailer', 'all seriousness', 'i', 'it', 'ryan reynolds', 'deadpool', 'i', 'he', 'a huge part', 'i', 'they', 'his insecurity', 'his skin', 'it', 'one small part', 'he', 'vanessa', 'i', 'a angsty deadpool fangirl', 'i', 'the film']\n",
      "\n",
      "REVIEW 72: ['a movie', 'one point', 'i', 'myself', 'the dialogue', 'jokes', 'the movie', 'that edgy annoying shtick', 'tryhard', 'the process', 'you', 'my drift', 'the \"humor', 'the plot', 'you', 'this tripe', 'i', 'dark, sarcastic and dry humor', 'this movie', 'a terrible attempt', 'this movie', 'a 7+ rating', 'you', 'simpletons', 'victim', 'the hive mind hype', 'comic-dorks', 'who', 'aspergers', 'high school', 'their social life']\n",
      "\n",
      "REVIEW 73: ['review', 'i', 'this movie', 'it', 'you', 'the giant egos', 'the avengers', 'what team work', 'it', 'the direction', 'the screenplay', 'the casting', 'the casting team', 'just the avengers', 'black panther', 'ant man', 'various other future characters', 'them', 'the acting', 'no one actor', 'a ensemble perspective', 'i', 'a possible five stars']\n",
      "\n",
      "REVIEW 74: ['the mcu', 'a collection', 'fun films', 'they', 'they', 'a lighter tone', 'the films', 'they', 'serious issues', 'real world horrors', 'the more comedic entries', 'ant-man', 'ant-man', 'the wasp', 'the guardians', 'the galaxy', 'the more grimdark ones', 'ultron', 'doctor strange', 'a more serious story', 'it', 'about a very smart man', 'what', 'he', 'a very trippy vibe', 'a goofy tone', 'the film', 'such gleeful nonsense', 'it', 'that nonsense', 'film', 'the viewer', 'its world', 'a lot', 'visuals', 'the mystic visuals', 'you', 'acid', 'them', 'the film', 'the cgi', 'some expressiveness', 'not all shots', 'the camera', 'the fights scenes', 'a guess', 'a person', 'the story', 'an origin story', 'the basic story', 'more or less iron man', 'ant-man', 'the film', 'the tropes', 'they', 'the climax', 'it', 'incident-', 'the best bit', 'writing', 'the mcu', \"doctor strange's story\", 'a car crash', 'stephen', 'the moment', 'he', 'the moment', 'the climax', 'the film', 'nothing', 'a singular moment', 'it', 'a really clever solution', 'the plot', 'the themes', 'characters', 'i', 'who', 'it', 'a bonus']\n",
      "\n",
      "REVIEW 75: ['this film', 'i', 'the edge', 'my seat', 'tom holland', 'the heartbreak', 'someone', 'a kid', 'everyone', 'i', 'his version', 'spiderman', 'his character', 'the mcu', 'he', 'the rest', 'us', 'the cgi effects', 'a movie masterpiece']\n",
      "\n",
      "REVIEW 76: ['the most ridiculous rating', 'any sense', 'i', 'a real person', 'poor plot', 'poor acting', 'poor action', 'poor cgi', 'me', 'two hours', 'my life', 'this crap', 'your landry', 'your socks', 'your toilet', 'your toothbrush', 'all activities', 'more fun', 'love marvel', 'this movie']\n",
      "\n",
      "REVIEW 77: ['this movie', 'me', 'it', 'the most boring movies', 'i']\n",
      "\n",
      "REVIEW 78: ['i', 'this movie', 'it', 'a mindless action movie', 'people', 'it', 'amazing cgi', 'you', 'any cliche', 'your \"hair', 'me', 'this entire film', 'one-liner comedy', 'place', 'character development', 'what', 'it', 'best... mindless action', 'the action', 'sense', 'thanos', 'no infinity stones', 'the previous film', 'issues', 'stones', 'the entire movie', 'a ridiculous time \"heist', 'they', 'jokes', 'the idea', '30 seconds', 'iron man', 'it', 'this entire movies', 'cliches', ', re-used tropes', 'one-liners', 'familiar actors', 'amazing cgi', 'it', 'you']\n",
      "\n",
      "REVIEW 79: ['i', 'i', 'a lot', 'a lot inconsistent things', 'the first movie', 'the last one', 'a better climax']\n",
      "\n",
      "REVIEW 80: ['it', 'my favourite movies', 'good action', 'implementation', 'addition', 'the movie', 'i', 'what', 'i', 'a pity', 'no marvel heroes', 'other films', 'it', 'the film', 'the other mcu films', 'what', 'i', 'i', 'the movie', 'it', 'what', 'you', 'marvel (other country / religion', 'a lot', 'technology', 'sister', 'the hero']\n",
      "\n",
      "REVIEW 81: ['you', 'a little girl', 'a severed human head', 'a dusty parking lot', 'logan', 'a violent, gory, hateful, ugly, senseless and charmless movie', 'hugh jackman', 'wolverine', 'aka logan', 'a man', 'retractable claws', 'his hands', 'he', 'laura', 'a mutant', 'himself', 'the girl', 'mistreatment', 'mexico', 'a safe house', 'canada', 'she', 'a bad guy', 'you', 'it', 'a southern accent', 'i', 'you', \"the bad guy's name\", 'it', 'donald', 'a mexican girl', 'who', 'safety', 'canada', 'i', 'what', 'you', 'an artistically and intellectually ambitious film', 'clichés', 'abandon all such hope', 'anyone', 'who', 'a ticket', 'this splatter mess', 'fact', 'terrorist videos', 'youtube', 'hugh jackman', 'this bloated, exploitative, anti-human mess', 'the film', 'just one long hyperviolent chase scene', 'donald', 'logan', 'laura', 'a lengthy fight', 'decapitations', 'dismemberment', 'graphic impalement', 'various body parts', 'you', \"logan's blades\", 'faces', 'skulls', 'the director', 'the fight scene', 'logan', 'laura', 'a temporary escape', 'donald regroups', 'lather', 'rinse', 'repeat', 'a couple', 'gratuitous christophobic images', 'the bad guys', 'a christian cross', 'his arm', 'the arm', 'his body', 'another scene', 'a cross', 'an x', 'x- men']\n",
      "\n",
      "REVIEW 82: ['this movie', 'a certain group', 'people', 'i', 'the movies', 'it', 'the race', 'actors', 'the majority', 'the movie goers', 'this movie', 'the storyline', 'the acting', 'my wife', 'i', 'we', 'it', 'we', 'the whole thing', 'marvels', 'date', 'the only marvel movies', \"ed norton's hulk\", 'captain marvel']\n",
      "\n",
      "REVIEW 83: ['the best spider-man movie', 'i', 'words', 'i', 'the whole movie', 'masterpiece', 'the best movies', 'it']\n",
      "\n",
      "REVIEW 84: ['guardians', 'the galaxy', 'the avengers', 'age', 'ultron', 'a spectacular, wonderful first film', 'it', 'a formulaic mess', 'the movie', 'a scene', 'our heroes', 'a mission', 'no reason', 'they', 'danger', 'they', 'an unknown enemy', 'an introduction', 'tension', 'just pure audiovisual joy', 'the key word', 'this movie', 'pure joy', 'nothing', 'we', 'high expectations', 'the movie', 'it', 'a total mess', 'the star', 'this movie', 'baby groot', 'he', 'the mature groot', 'the first movie', 'the same time', 'everybody', 'the sentimentality', 'some scenes', 'i', 'it', 'kurt russell', 'sylvester stallone', 'the same movie', 'tango', 'cash', 'the first time', 'a historic moment', 'they', 'the movie', 'what', 'the villain', 'the movie', 'no sense', 'a relationship', \"the villain's motivation\", \"peter quill's past\", 'you', 'the stories', 'the first movie', 'what', 'you', 'we', 'the same forced sentimentality', 'story', 'another story', 'the latest sequel', 'the pirates', 'the caribbean', 'the most annoying relationship', 'the movie', 'two sisters', 'it', 'i', 'this character', 'her relationship', 'her sister', 'it', 'it', 'just a plot device', 'the movie', 'the movie zardoz', 'nice, little greek tragedy', 'definitely the best part', 'the movie', 'space prison part', 'a total mess', 'even the post credit scenes', 'the second half', 'we', 'action', 'action', 'more action', 'we', 'the team', 'we', 'a family\" message', 'you', 'fast and furious movies', 'the movie', 'its poster', 'a complete audiovisual mess', 'lots', 'cgi', 'lots', 'noisy action', 'overblown visuals', 'no properly built up story', 'no development', 'no tension', 'no heart', 'soul', 'the way', 'the movies', 'these days', 'the villain', 'everything', 'evil plans', 'everything', 'us', 'some point', 'jokes', 'gamora', 'a lesser screen time', 'it', 'a pity', 'drax', 'everything', 'a mess', 'great stallone', '\"gotg\" fans', 'the story', 'your expectations', 'your kids', 'it']\n",
      "\n",
      "REVIEW 85: ['the first guardians', 'it', 'a massive hit', 'the marvel cinematic universe', 'some obscure characters', 'pop culture legends', 'great actors', 'soundtrack', 'a wonderful sense', 'humour', 'they', 'volume', 'place', 'volume', 'the story', \"starlord's father\", \"'s\", 'the best feature', 'the film', 'soundtrack', 'most films', 'the script', 'the music super visors', 'music', 'it', 'gunn', 'a list', 'what songs', 'the film', 'it', 'it', 'what', 'edgar wright', 'baby driver', 'the song selection', 'mr blue sky', 'a battle', 'chaos', \"cat stevens' farther and son\", \"yondu's funeral\", 'the songs', 'previous artist', 'who', 'obscurity', 'volume', 'this film', \"'s\", 'the songs', 'example', 'a little bit closer-', 'the song', 'yondu', 'rocket', 'the ship-', 'man', 'who', 'love', 'a woman', 'who', 'a relationship', 'man', 'who', 'the mans butt', 'this scene', 'his crew', 'him', 'these songs', 'you', 'james gunn', 'the film', 'the first film', 'i', 'i', 'course', 'i', 'what', 'a lot', 'rainbows', 'this film', 'a rainbow breathing squid thing', 'yondu', 'rainbow flames', 'this film', 'bright and colourful weird piece', 'media', 'and the acting', 'i', 'everyone', 'their characters', 'you', 'these people', 'a long time', 'my favourite mcu film', 'and one', 'a classic']\n",
      "\n",
      "REVIEW 86: ['it', 'marvel', 'us', '1000%', 'the effects', 'benedict', 'the character', 'he']\n",
      "\n",
      "REVIEW 87: ['ayyyy', 'i', 'the spiderman part', 'especially the captain america', 'iron man']\n",
      "\n",
      "REVIEW 88: ['weird story', 'a cartoon story', 'a lot', 'poetic licence', 'story line', 'sense', 'top', 'psychedelic lights/pictures', 'loud disconcerting music', 'you', 'a few minutes', 'i', 'the rest', 'the movie', 'a reprieve', 'the theater', 'i', 'the last bit', 'i', 'the wisdom', 'the public (97% rating', 'rotten tomatoes', 'dec', 'this movie', 'this movie', 'i', 'what', 'the studios', 'the story', 'it']\n",
      "\n",
      "REVIEW 89: ['a doubt', 'the worst marvel movie', 'the world', 'me', 'total garbage', 'the end', 'marvel', 'they', 'better writers', \"stan lee's saga\", '3 awards', 'a dreadful disjointed plot', 'action scenes', 'little sense', 'the world', 'marvel']\n",
      "\n",
      "REVIEW 90: ['i', 'how good this movie', 'i', 'i', 'i', 'the story', 'logan', 'a broken down man', 'the service', 'care', 'an aging charles xavier', 'logan', 'himself', 'a predicament', 'he', 'this other mutant', 'the same powers', 'him', 'her name', 'laura', 'his job', 'her', 'her destination', 'the revers', 'a good freaking movie', 'the review', 'this story', 'it', 'me', 'the words', 'this film', 'the lighting', 'the cinematography', 'the score', 'course', 'the directing good', 'james mangold', 'the director', 'his previous wolverine film', 'the wolverine', 'i', 'what', 'people', 'the wolverine', 'it', 'my opinion', 'this masterpiece', 'course', 'what', 'i', 'james mangold', 'a master', 'it', 'this film', 'the passing', 'this film', 'it', 'a stream', 'water', \"'s\", 'the acting', 'hugh jackman', 'a doubt', 'his best performance', 'his film career', 'i', 'the prestige\" level', 'performance', 'i', 'he', 'this movie', 'dafnee keen', 'best performance', 'she', 'a show', 'an upcoming movie', 'a mind', 'performance', 'patrick stewart holy s@@@ man', 'he', 'it', 'the park', 'this performance', 'his best performance', 'hugh', \"patrick's swan song\", 'i', 'they', 'a bang', 'us', 'especially me', 'my favorite marvel', 'probably my favorite movie', 'all time', 'i', 'this movie', 'a 100%']\n",
      "\n",
      "REVIEW 91: ['what an insanely creative and fun film', 'the colors', 'visuals', 'cinematography', 'even the performances', 'a cartoon', 'a good way', 'every time', 'i', 'the movie', 'i', 'i', 'my childhood', 'my top ten marvel movies', 'the first film', 'i', 'james gunn', 'the third film', 'i', 'it']\n",
      "\n",
      "REVIEW 92: ['the spiderverse', 'endgame', 'i', 'pretty high expectations', 'home', 'i', 'it', 'the cast', 'especially tom holland', 'jake gylanhall', 'samuel l. jackson', 'the story', 'other superhero movies', 'captain marvel', 'aquaman', 'other marvel movies', 'the writers', 'a great job', 'the characters', 'the way', 'they', 'the characters', 'even minor ones', 'flash', 'brad', \"jake gylanhall's mysterio\", 'the best villians', 'the mcu', 'spider-man', 'mysterio', 'him', 'the inside', \"tony stark's death\", 'an advantage', 'the effects', 'the action', 'the mcu', 'home', 'a great movie', 'the mcu', 'the credits', 'two surprises', 'you', 'a raimi fan', 'Betty']\n",
      "\n",
      "REVIEW 93: ['you', 'a movie', 'no plot', 'a huge set', 'actors', 'who', 'one line', 'one and just non sense action', 'this movie', 'you', 'i', 'a big fan', 'comic book movies', 'i', 'movies', 'iron man', 'winter soldier', 'i', 'this movie', 'a long time', 'this movie', 'no plot', 'i', 'i', 'free, complete waste', 'time', 'i', 'marvell', 'a plot', 'a story', 'i', 'they', 'more characters', 'they', 'too many characters', 'too little focus', 'the future', 'avengers', 'i', 'i']\n",
      "\n",
      "REVIEW 94: ['i', 'this spiderman movie', 'the last one', 'i', 'the majority', 'reviewers', 'it', 'a great movie', 'it', 'me', 'details', 'the reasons', 'i', 'this movie', 'this incarnation', 'spiderman', 'an awkward teenager', 'confidence', 'who', 'a hero', 'confidence', 'me', 'i', 'a superhero', 'himself', 'he', 'any emergency', 'supervillian', 'he', 'your awkward teenage heroes', 'the disney channel', 'much action', 'spiderman', 'his superhero skills', 'a scene', 'he', 'the giant', 'water', 'his webbing', 'it', 'he', 'a portion', 'a buliding', 'the flooding', 'the giant', 'the only time', 'he', 'a hero', 'the last 10 minutes', 'the movie', 'he', 'his spider sense', 'mysterio', 'hardly enough action', 'a 2 hour movie', 'maybe the younger crowd', 'teenager', 'early twenties', 'this version', 'spiderman', 'they', 'him', 'the average man', 'i', 'my superhero', 'the average man', 'i', 'him', 'a confident powerful hero', 'i', 'time', 'money', 'another spiderman movie', 'the format', 'my opinion', 'a horrible movie']\n",
      "\n",
      "REVIEW 95: ['this movie', 'the animation blurs', 'a character', 'it', 'my eyes', 'it', 'the characters', 'it', 'god awful cringe', 'people', 'recent years', 'the absolute trash hollywood', 'screens', 'it', 'how many people', 'something', 'this caliber', 'it', 'every cliched box', 'every comic book movie', 'idiotic one liners', 'the extreme political correctness', 'every screen', 'the globe', 'it', 'the same comic book movie', 'you', 'a terrible way']\n",
      "\n",
      "REVIEW 96: ['people', 'this film', 'it', 'shame']\n",
      "\n",
      "REVIEW 97: ['i', 'the first film', 'i', 'just my opinion', 'no need', 'i', 'the first film', 'i', 'it', 'just my opinion']\n",
      "\n",
      "REVIEW 98: ['his great direction', 'strong grip', 'script taika waititi', 'thor ragnarok', 'a masterpiece', 'chrish', 'hemsworth']\n",
      "\n",
      "REVIEW 99: ['everything', 'bvs', 'every scene', 'plot', 'i', 'bvs', 'i', 'bvs', 'i', 'civil war']\n",
      "\n",
      "REVIEW 100: ['i', 'most popular movies', 'the appeal', 'who', 'these characters', 'care']\n",
      "\n"
     ]
    }
   ],
   "source": [
    "for i,v in enumerate(review_chunks):\n",
    "    print('REVIEW ',i+1,': ',v,'\\n',sep='')"
   ]
  },
  {
   "cell_type": "markdown",
   "metadata": {},
   "source": [
    "## 3.\tOutput all the chunks in a single list for each review, and submit that output for this assignment. Also submit a brief written summary of what you did (describe your selection of genre, your source of reviews, how many you collected, and by what means)."
   ]
  },
  {
   "cell_type": "markdown",
   "metadata": {},
   "source": [
    "I used BeautifulSoup to go from an advanced search page and automatically pull individual reviews from IMDb. The advanced search filtered for the following items:\n",
    "- Feature Film\n",
    "- Marvel comics\n",
    "- Superhero\n",
    "- At least 7.0 IMDb user rating (average)\n",
    "- 2015-2021 Release year or range\n",
    "- In addition, I manually filtered to ensure the movie had at least 3000 votes to ensure the film was relevant and had sufficient reviews\n",
    "\n",
    "Using the movie_id for the 18 films that met the criteria, I was able to make the links to the reviews page and the top characters/actors page. I created two links for the reviews of each movie. One that populated the reviews in ascending order and another that populated the movies in descending order based on rating to ensure there was a mix of positive and negative reviews. From each of these reviews links, I was able to evaluate 25 reviews (50 per movie). I verified each review had at least 10 characters in the body or the review was skipped due to lack of content. After evaluating 900 reviews, 894 individual reviews met the criteria and the url links were gathered along with the content in each review's body. In the first 100 reviews, 4 key names were identified that were missed and were corrected to the noun phrase chunk list.\n",
    "\n",
    "With all the information needed pulled, I moved on to using Spacy to chunk the noun phrases in each review. To evaluate if any of the key character or actor names were missed, I used NLTK tokenizer to help search the review for a match to any of the key names. If a name was identified in the review and was missing from the chunked noun phrases, then the name was added to the chunked noun phrase for that review.\n",
    "\n",
    "Due to having pulled over 800 reviews, the reviews are shuffled to display a mix of positive and negative reviews from multiple movies in the first 100 elements. Finally, I printed the output of the noun phrase chunks for the first 100 reviews."
   ]
  }
 ],
 "metadata": {
  "interpreter": {
   "hash": "98188f228320b9c11c456464a36d308a8574f056afe4f13f0d58da7d046c4bd7"
  },
  "kernelspec": {
   "display_name": "Python 3.7.7 ('ds_p37_r35')",
   "language": "python",
   "name": "python3"
  },
  "language_info": {
   "codemirror_mode": {
    "name": "ipython",
    "version": 3
   },
   "file_extension": ".py",
   "mimetype": "text/x-python",
   "name": "python",
   "nbconvert_exporter": "python",
   "pygments_lexer": "ipython3",
   "version": "3.7.7"
  },
  "orig_nbformat": 4
 },
 "nbformat": 4,
 "nbformat_minor": 2
}
